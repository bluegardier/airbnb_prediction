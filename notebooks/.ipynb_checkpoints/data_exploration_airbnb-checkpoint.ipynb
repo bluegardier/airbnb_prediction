{
 "cells": [
  {
   "cell_type": "markdown",
   "id": "proper-india",
   "metadata": {},
   "source": [
    "## Airbnb Data Challenge \n",
    "\n",
    "Data taken from:\n",
    "\n",
    "The dataset has data about rental places from Latin America's capital, Rio de Janeiro. One can propose the following challenges for the candidates:\n",
    "\n",
    "- Estimate price variable for each observation. Regression Approach.\n",
    "- Estimate room type variable for each observation. Classification Approach.\n",
    "\n",
    "This notebook makes a superficial analysis of the dataset, paying attention on each requirement from the **Expectation** section on readme.md."
   ]
  },
  {
   "cell_type": "code",
   "execution_count": 1,
   "id": "mineral-census",
   "metadata": {},
   "outputs": [],
   "source": [
    "import pandas as pd\n",
    "import numpy as np\n",
    "import seaborn as sns\n",
    "import utils\n",
    "\n",
    "pd.set_option('display.max_columns', None)\n",
    "pd.set_option('display.max_rows', None)"
   ]
  },
  {
   "cell_type": "code",
   "execution_count": 2,
   "id": "spanish-billion",
   "metadata": {},
   "outputs": [],
   "source": [
    "df = pd.read_csv('../data/listings.csv')"
   ]
  },
  {
   "cell_type": "markdown",
   "id": "dental-municipality",
   "metadata": {},
   "source": [
    "### 1. Basic Dataframe Info\n",
    "\n",
    "We can check dataframe's shape to assert how many rows we have. The .head() method give us a glimpse of what we're about to attack."
   ]
  },
  {
   "cell_type": "code",
   "execution_count": 3,
   "id": "through-saskatchewan",
   "metadata": {
    "scrolled": true
   },
   "outputs": [
    {
     "data": {
      "text/plain": [
       "(26615, 74)"
      ]
     },
     "execution_count": 3,
     "metadata": {},
     "output_type": "execute_result"
    }
   ],
   "source": [
    "df.shape"
   ]
  },
  {
   "cell_type": "code",
   "execution_count": 4,
   "id": "seventh-procedure",
   "metadata": {},
   "outputs": [
    {
     "data": {
      "text/html": [
       "<div>\n",
       "<style scoped>\n",
       "    .dataframe tbody tr th:only-of-type {\n",
       "        vertical-align: middle;\n",
       "    }\n",
       "\n",
       "    .dataframe tbody tr th {\n",
       "        vertical-align: top;\n",
       "    }\n",
       "\n",
       "    .dataframe thead th {\n",
       "        text-align: right;\n",
       "    }\n",
       "</style>\n",
       "<table border=\"1\" class=\"dataframe\">\n",
       "  <thead>\n",
       "    <tr style=\"text-align: right;\">\n",
       "      <th></th>\n",
       "      <th>id</th>\n",
       "      <th>listing_url</th>\n",
       "      <th>scrape_id</th>\n",
       "      <th>last_scraped</th>\n",
       "      <th>name</th>\n",
       "      <th>description</th>\n",
       "      <th>neighborhood_overview</th>\n",
       "      <th>picture_url</th>\n",
       "      <th>host_id</th>\n",
       "      <th>host_url</th>\n",
       "      <th>host_name</th>\n",
       "      <th>host_since</th>\n",
       "      <th>host_location</th>\n",
       "      <th>host_about</th>\n",
       "      <th>host_response_time</th>\n",
       "      <th>host_response_rate</th>\n",
       "      <th>host_acceptance_rate</th>\n",
       "      <th>host_is_superhost</th>\n",
       "      <th>host_thumbnail_url</th>\n",
       "      <th>host_picture_url</th>\n",
       "      <th>host_neighbourhood</th>\n",
       "      <th>host_listings_count</th>\n",
       "      <th>host_total_listings_count</th>\n",
       "      <th>host_verifications</th>\n",
       "      <th>host_has_profile_pic</th>\n",
       "      <th>host_identity_verified</th>\n",
       "      <th>neighbourhood</th>\n",
       "      <th>neighbourhood_cleansed</th>\n",
       "      <th>neighbourhood_group_cleansed</th>\n",
       "      <th>latitude</th>\n",
       "      <th>longitude</th>\n",
       "      <th>property_type</th>\n",
       "      <th>room_type</th>\n",
       "      <th>accommodates</th>\n",
       "      <th>bathrooms</th>\n",
       "      <th>bathrooms_text</th>\n",
       "      <th>bedrooms</th>\n",
       "      <th>beds</th>\n",
       "      <th>amenities</th>\n",
       "      <th>price</th>\n",
       "      <th>minimum_nights</th>\n",
       "      <th>maximum_nights</th>\n",
       "      <th>minimum_minimum_nights</th>\n",
       "      <th>maximum_minimum_nights</th>\n",
       "      <th>minimum_maximum_nights</th>\n",
       "      <th>maximum_maximum_nights</th>\n",
       "      <th>minimum_nights_avg_ntm</th>\n",
       "      <th>maximum_nights_avg_ntm</th>\n",
       "      <th>calendar_updated</th>\n",
       "      <th>has_availability</th>\n",
       "      <th>availability_30</th>\n",
       "      <th>availability_60</th>\n",
       "      <th>availability_90</th>\n",
       "      <th>availability_365</th>\n",
       "      <th>calendar_last_scraped</th>\n",
       "      <th>number_of_reviews</th>\n",
       "      <th>number_of_reviews_ltm</th>\n",
       "      <th>number_of_reviews_l30d</th>\n",
       "      <th>first_review</th>\n",
       "      <th>last_review</th>\n",
       "      <th>review_scores_rating</th>\n",
       "      <th>review_scores_accuracy</th>\n",
       "      <th>review_scores_cleanliness</th>\n",
       "      <th>review_scores_checkin</th>\n",
       "      <th>review_scores_communication</th>\n",
       "      <th>review_scores_location</th>\n",
       "      <th>review_scores_value</th>\n",
       "      <th>license</th>\n",
       "      <th>instant_bookable</th>\n",
       "      <th>calculated_host_listings_count</th>\n",
       "      <th>calculated_host_listings_count_entire_homes</th>\n",
       "      <th>calculated_host_listings_count_private_rooms</th>\n",
       "      <th>calculated_host_listings_count_shared_rooms</th>\n",
       "      <th>reviews_per_month</th>\n",
       "    </tr>\n",
       "  </thead>\n",
       "  <tbody>\n",
       "    <tr>\n",
       "      <th>0</th>\n",
       "      <td>17878</td>\n",
       "      <td>https://www.airbnb.com/rooms/17878</td>\n",
       "      <td>20210222161029</td>\n",
       "      <td>2021-02-23</td>\n",
       "      <td>Very Nice 2Br in Copacabana w. balcony, fast WiFi</td>\n",
       "      <td>Discounts for long term stays. &lt;br /&gt;- Large b...</td>\n",
       "      <td>This is the one of the bests spots in Rio. Bec...</td>\n",
       "      <td>https://a0.muscache.com/pictures/65320518/3069...</td>\n",
       "      <td>68997</td>\n",
       "      <td>https://www.airbnb.com/users/show/68997</td>\n",
       "      <td>Matthias</td>\n",
       "      <td>2010-01-08</td>\n",
       "      <td>Rio de Janeiro, State of Rio de Janeiro, Brazil</td>\n",
       "      <td>I  am a  journalist/writer. Lived for 15 years...</td>\n",
       "      <td>within an hour</td>\n",
       "      <td>100%</td>\n",
       "      <td>100%</td>\n",
       "      <td>t</td>\n",
       "      <td>https://a0.muscache.com/im/pictures/user/67b13...</td>\n",
       "      <td>https://a0.muscache.com/im/pictures/user/67b13...</td>\n",
       "      <td>Copacabana</td>\n",
       "      <td>2.0</td>\n",
       "      <td>2.0</td>\n",
       "      <td>['email', 'phone', 'reviews', 'jumio', 'offlin...</td>\n",
       "      <td>t</td>\n",
       "      <td>t</td>\n",
       "      <td>Rio de Janeiro, Brazil</td>\n",
       "      <td>Copacabana</td>\n",
       "      <td>NaN</td>\n",
       "      <td>-22.96592</td>\n",
       "      <td>-43.17896</td>\n",
       "      <td>Entire condominium</td>\n",
       "      <td>Entire home/apt</td>\n",
       "      <td>5</td>\n",
       "      <td>NaN</td>\n",
       "      <td>1 bath</td>\n",
       "      <td>2.0</td>\n",
       "      <td>2.0</td>\n",
       "      <td>[\"Air conditioning\", \"Essentials\", \"Luggage dr...</td>\n",
       "      <td>$221.00</td>\n",
       "      <td>5</td>\n",
       "      <td>180</td>\n",
       "      <td>5.0</td>\n",
       "      <td>5.0</td>\n",
       "      <td>1125.0</td>\n",
       "      <td>1125.0</td>\n",
       "      <td>5.0</td>\n",
       "      <td>1125.0</td>\n",
       "      <td>NaN</td>\n",
       "      <td>t</td>\n",
       "      <td>0</td>\n",
       "      <td>8</td>\n",
       "      <td>38</td>\n",
       "      <td>304</td>\n",
       "      <td>2021-02-23</td>\n",
       "      <td>260</td>\n",
       "      <td>12</td>\n",
       "      <td>2</td>\n",
       "      <td>2010-07-15</td>\n",
       "      <td>2021-02-08</td>\n",
       "      <td>94.0</td>\n",
       "      <td>9.0</td>\n",
       "      <td>9.0</td>\n",
       "      <td>10.0</td>\n",
       "      <td>10.0</td>\n",
       "      <td>10.0</td>\n",
       "      <td>9.0</td>\n",
       "      <td>NaN</td>\n",
       "      <td>t</td>\n",
       "      <td>1</td>\n",
       "      <td>1</td>\n",
       "      <td>0</td>\n",
       "      <td>0</td>\n",
       "      <td>2.01</td>\n",
       "    </tr>\n",
       "    <tr>\n",
       "      <th>1</th>\n",
       "      <td>24480</td>\n",
       "      <td>https://www.airbnb.com/rooms/24480</td>\n",
       "      <td>20210222161029</td>\n",
       "      <td>2021-02-23</td>\n",
       "      <td>Nice and cozy near Ipanema Beach</td>\n",
       "      <td>My studio is located in the best  of Ipanema. ...</td>\n",
       "      <td>The beach, the lagoon, Ipanema is a great loca...</td>\n",
       "      <td>https://a0.muscache.com/pictures/11955612/b28e...</td>\n",
       "      <td>99249</td>\n",
       "      <td>https://www.airbnb.com/users/show/99249</td>\n",
       "      <td>Goya</td>\n",
       "      <td>2010-03-26</td>\n",
       "      <td>Rio de Janeiro, Rio de Janeiro, Brazil</td>\n",
       "      <td>Welcome to Rio!\\r\\nI am a filmmaker and a tea...</td>\n",
       "      <td>within a few hours</td>\n",
       "      <td>100%</td>\n",
       "      <td>NaN</td>\n",
       "      <td>f</td>\n",
       "      <td>https://a0.muscache.com/im/pictures/user/6b404...</td>\n",
       "      <td>https://a0.muscache.com/im/pictures/user/6b404...</td>\n",
       "      <td>Ipanema</td>\n",
       "      <td>0.0</td>\n",
       "      <td>0.0</td>\n",
       "      <td>['email', 'phone', 'facebook', 'reviews', 'jum...</td>\n",
       "      <td>t</td>\n",
       "      <td>t</td>\n",
       "      <td>Rio de Janeiro, Brazil</td>\n",
       "      <td>Ipanema</td>\n",
       "      <td>NaN</td>\n",
       "      <td>-22.98570</td>\n",
       "      <td>-43.20193</td>\n",
       "      <td>Entire apartment</td>\n",
       "      <td>Entire home/apt</td>\n",
       "      <td>2</td>\n",
       "      <td>NaN</td>\n",
       "      <td>1 bath</td>\n",
       "      <td>1.0</td>\n",
       "      <td>1.0</td>\n",
       "      <td>[\"Extra pillows and blankets\", \"Air conditioni...</td>\n",
       "      <td>$307.00</td>\n",
       "      <td>3</td>\n",
       "      <td>90</td>\n",
       "      <td>3.0</td>\n",
       "      <td>3.0</td>\n",
       "      <td>90.0</td>\n",
       "      <td>90.0</td>\n",
       "      <td>3.0</td>\n",
       "      <td>90.0</td>\n",
       "      <td>NaN</td>\n",
       "      <td>t</td>\n",
       "      <td>0</td>\n",
       "      <td>0</td>\n",
       "      <td>0</td>\n",
       "      <td>10</td>\n",
       "      <td>2021-02-23</td>\n",
       "      <td>85</td>\n",
       "      <td>0</td>\n",
       "      <td>0</td>\n",
       "      <td>2010-09-26</td>\n",
       "      <td>2018-02-14</td>\n",
       "      <td>95.0</td>\n",
       "      <td>10.0</td>\n",
       "      <td>10.0</td>\n",
       "      <td>10.0</td>\n",
       "      <td>10.0</td>\n",
       "      <td>10.0</td>\n",
       "      <td>9.0</td>\n",
       "      <td>NaN</td>\n",
       "      <td>f</td>\n",
       "      <td>1</td>\n",
       "      <td>1</td>\n",
       "      <td>0</td>\n",
       "      <td>0</td>\n",
       "      <td>0.67</td>\n",
       "    </tr>\n",
       "    <tr>\n",
       "      <th>2</th>\n",
       "      <td>25026</td>\n",
       "      <td>https://www.airbnb.com/rooms/25026</td>\n",
       "      <td>20210222161029</td>\n",
       "      <td>2021-02-23</td>\n",
       "      <td>Beautiful Modern Decorated Studio in Copa</td>\n",
       "      <td>Our apartment is a little gem, everyone loves ...</td>\n",
       "      <td>Copacabana is a lively neighborhood and the ap...</td>\n",
       "      <td>https://a0.muscache.com/pictures/3003965/68ebb...</td>\n",
       "      <td>3746246</td>\n",
       "      <td>https://www.airbnb.com/users/show/3746246</td>\n",
       "      <td>Ghizlane</td>\n",
       "      <td>2012-10-03</td>\n",
       "      <td>Rio de Janeiro, Rio de Janeiro, Brazil</td>\n",
       "      <td>French girl \"lost in Brazilian translation\" si...</td>\n",
       "      <td>within a few hours</td>\n",
       "      <td>97%</td>\n",
       "      <td>78%</td>\n",
       "      <td>f</td>\n",
       "      <td>https://a0.muscache.com/im/pictures/user/fffed...</td>\n",
       "      <td>https://a0.muscache.com/im/pictures/user/fffed...</td>\n",
       "      <td>Ipanema</td>\n",
       "      <td>11.0</td>\n",
       "      <td>11.0</td>\n",
       "      <td>['phone', 'reviews', 'jumio', 'offline_governm...</td>\n",
       "      <td>t</td>\n",
       "      <td>f</td>\n",
       "      <td>Rio de Janeiro, Brazil</td>\n",
       "      <td>Copacabana</td>\n",
       "      <td>NaN</td>\n",
       "      <td>-22.97712</td>\n",
       "      <td>-43.19045</td>\n",
       "      <td>Entire apartment</td>\n",
       "      <td>Entire home/apt</td>\n",
       "      <td>2</td>\n",
       "      <td>NaN</td>\n",
       "      <td>1 bath</td>\n",
       "      <td>1.0</td>\n",
       "      <td>2.0</td>\n",
       "      <td>[\"Elevator\", \"Dedicated workspace\", \"Kitchen\",...</td>\n",
       "      <td>$160.00</td>\n",
       "      <td>7</td>\n",
       "      <td>60</td>\n",
       "      <td>7.0</td>\n",
       "      <td>7.0</td>\n",
       "      <td>60.0</td>\n",
       "      <td>60.0</td>\n",
       "      <td>7.0</td>\n",
       "      <td>60.0</td>\n",
       "      <td>NaN</td>\n",
       "      <td>t</td>\n",
       "      <td>0</td>\n",
       "      <td>23</td>\n",
       "      <td>53</td>\n",
       "      <td>328</td>\n",
       "      <td>2021-02-23</td>\n",
       "      <td>238</td>\n",
       "      <td>0</td>\n",
       "      <td>0</td>\n",
       "      <td>2010-06-07</td>\n",
       "      <td>2020-02-15</td>\n",
       "      <td>94.0</td>\n",
       "      <td>9.0</td>\n",
       "      <td>9.0</td>\n",
       "      <td>9.0</td>\n",
       "      <td>10.0</td>\n",
       "      <td>10.0</td>\n",
       "      <td>9.0</td>\n",
       "      <td>NaN</td>\n",
       "      <td>f</td>\n",
       "      <td>11</td>\n",
       "      <td>11</td>\n",
       "      <td>0</td>\n",
       "      <td>0</td>\n",
       "      <td>1.82</td>\n",
       "    </tr>\n",
       "  </tbody>\n",
       "</table>\n",
       "</div>"
      ],
      "text/plain": [
       "      id                         listing_url       scrape_id last_scraped  \\\n",
       "0  17878  https://www.airbnb.com/rooms/17878  20210222161029   2021-02-23   \n",
       "1  24480  https://www.airbnb.com/rooms/24480  20210222161029   2021-02-23   \n",
       "2  25026  https://www.airbnb.com/rooms/25026  20210222161029   2021-02-23   \n",
       "\n",
       "                                                name  \\\n",
       "0  Very Nice 2Br in Copacabana w. balcony, fast WiFi   \n",
       "1                   Nice and cozy near Ipanema Beach   \n",
       "2          Beautiful Modern Decorated Studio in Copa   \n",
       "\n",
       "                                         description  \\\n",
       "0  Discounts for long term stays. <br />- Large b...   \n",
       "1  My studio is located in the best  of Ipanema. ...   \n",
       "2  Our apartment is a little gem, everyone loves ...   \n",
       "\n",
       "                               neighborhood_overview  \\\n",
       "0  This is the one of the bests spots in Rio. Bec...   \n",
       "1  The beach, the lagoon, Ipanema is a great loca...   \n",
       "2  Copacabana is a lively neighborhood and the ap...   \n",
       "\n",
       "                                         picture_url  host_id  \\\n",
       "0  https://a0.muscache.com/pictures/65320518/3069...    68997   \n",
       "1  https://a0.muscache.com/pictures/11955612/b28e...    99249   \n",
       "2  https://a0.muscache.com/pictures/3003965/68ebb...  3746246   \n",
       "\n",
       "                                    host_url host_name  host_since  \\\n",
       "0    https://www.airbnb.com/users/show/68997  Matthias  2010-01-08   \n",
       "1    https://www.airbnb.com/users/show/99249      Goya  2010-03-26   \n",
       "2  https://www.airbnb.com/users/show/3746246  Ghizlane  2012-10-03   \n",
       "\n",
       "                                     host_location  \\\n",
       "0  Rio de Janeiro, State of Rio de Janeiro, Brazil   \n",
       "1           Rio de Janeiro, Rio de Janeiro, Brazil   \n",
       "2           Rio de Janeiro, Rio de Janeiro, Brazil   \n",
       "\n",
       "                                          host_about  host_response_time  \\\n",
       "0  I  am a  journalist/writer. Lived for 15 years...      within an hour   \n",
       "1   Welcome to Rio!\\r\\nI am a filmmaker and a tea...  within a few hours   \n",
       "2  French girl \"lost in Brazilian translation\" si...  within a few hours   \n",
       "\n",
       "  host_response_rate host_acceptance_rate host_is_superhost  \\\n",
       "0               100%                 100%                 t   \n",
       "1               100%                  NaN                 f   \n",
       "2                97%                  78%                 f   \n",
       "\n",
       "                                  host_thumbnail_url  \\\n",
       "0  https://a0.muscache.com/im/pictures/user/67b13...   \n",
       "1  https://a0.muscache.com/im/pictures/user/6b404...   \n",
       "2  https://a0.muscache.com/im/pictures/user/fffed...   \n",
       "\n",
       "                                    host_picture_url host_neighbourhood  \\\n",
       "0  https://a0.muscache.com/im/pictures/user/67b13...         Copacabana   \n",
       "1  https://a0.muscache.com/im/pictures/user/6b404...            Ipanema   \n",
       "2  https://a0.muscache.com/im/pictures/user/fffed...            Ipanema   \n",
       "\n",
       "   host_listings_count  host_total_listings_count  \\\n",
       "0                  2.0                        2.0   \n",
       "1                  0.0                        0.0   \n",
       "2                 11.0                       11.0   \n",
       "\n",
       "                                  host_verifications host_has_profile_pic  \\\n",
       "0  ['email', 'phone', 'reviews', 'jumio', 'offlin...                    t   \n",
       "1  ['email', 'phone', 'facebook', 'reviews', 'jum...                    t   \n",
       "2  ['phone', 'reviews', 'jumio', 'offline_governm...                    t   \n",
       "\n",
       "  host_identity_verified           neighbourhood neighbourhood_cleansed  \\\n",
       "0                      t  Rio de Janeiro, Brazil             Copacabana   \n",
       "1                      t  Rio de Janeiro, Brazil                Ipanema   \n",
       "2                      f  Rio de Janeiro, Brazil             Copacabana   \n",
       "\n",
       "   neighbourhood_group_cleansed  latitude  longitude       property_type  \\\n",
       "0                           NaN -22.96592  -43.17896  Entire condominium   \n",
       "1                           NaN -22.98570  -43.20193    Entire apartment   \n",
       "2                           NaN -22.97712  -43.19045    Entire apartment   \n",
       "\n",
       "         room_type  accommodates  bathrooms bathrooms_text  bedrooms  beds  \\\n",
       "0  Entire home/apt             5        NaN         1 bath       2.0   2.0   \n",
       "1  Entire home/apt             2        NaN         1 bath       1.0   1.0   \n",
       "2  Entire home/apt             2        NaN         1 bath       1.0   2.0   \n",
       "\n",
       "                                           amenities    price  minimum_nights  \\\n",
       "0  [\"Air conditioning\", \"Essentials\", \"Luggage dr...  $221.00               5   \n",
       "1  [\"Extra pillows and blankets\", \"Air conditioni...  $307.00               3   \n",
       "2  [\"Elevator\", \"Dedicated workspace\", \"Kitchen\",...  $160.00               7   \n",
       "\n",
       "   maximum_nights  minimum_minimum_nights  maximum_minimum_nights  \\\n",
       "0             180                     5.0                     5.0   \n",
       "1              90                     3.0                     3.0   \n",
       "2              60                     7.0                     7.0   \n",
       "\n",
       "   minimum_maximum_nights  maximum_maximum_nights  minimum_nights_avg_ntm  \\\n",
       "0                  1125.0                  1125.0                     5.0   \n",
       "1                    90.0                    90.0                     3.0   \n",
       "2                    60.0                    60.0                     7.0   \n",
       "\n",
       "   maximum_nights_avg_ntm  calendar_updated has_availability  availability_30  \\\n",
       "0                  1125.0               NaN                t                0   \n",
       "1                    90.0               NaN                t                0   \n",
       "2                    60.0               NaN                t                0   \n",
       "\n",
       "   availability_60  availability_90  availability_365 calendar_last_scraped  \\\n",
       "0                8               38               304            2021-02-23   \n",
       "1                0                0                10            2021-02-23   \n",
       "2               23               53               328            2021-02-23   \n",
       "\n",
       "   number_of_reviews  number_of_reviews_ltm  number_of_reviews_l30d  \\\n",
       "0                260                     12                       2   \n",
       "1                 85                      0                       0   \n",
       "2                238                      0                       0   \n",
       "\n",
       "  first_review last_review  review_scores_rating  review_scores_accuracy  \\\n",
       "0   2010-07-15  2021-02-08                  94.0                     9.0   \n",
       "1   2010-09-26  2018-02-14                  95.0                    10.0   \n",
       "2   2010-06-07  2020-02-15                  94.0                     9.0   \n",
       "\n",
       "   review_scores_cleanliness  review_scores_checkin  \\\n",
       "0                        9.0                   10.0   \n",
       "1                       10.0                   10.0   \n",
       "2                        9.0                    9.0   \n",
       "\n",
       "   review_scores_communication  review_scores_location  review_scores_value  \\\n",
       "0                         10.0                    10.0                  9.0   \n",
       "1                         10.0                    10.0                  9.0   \n",
       "2                         10.0                    10.0                  9.0   \n",
       "\n",
       "   license instant_bookable  calculated_host_listings_count  \\\n",
       "0      NaN                t                               1   \n",
       "1      NaN                f                               1   \n",
       "2      NaN                f                              11   \n",
       "\n",
       "   calculated_host_listings_count_entire_homes  \\\n",
       "0                                            1   \n",
       "1                                            1   \n",
       "2                                           11   \n",
       "\n",
       "   calculated_host_listings_count_private_rooms  \\\n",
       "0                                             0   \n",
       "1                                             0   \n",
       "2                                             0   \n",
       "\n",
       "   calculated_host_listings_count_shared_rooms  reviews_per_month  \n",
       "0                                            0               2.01  \n",
       "1                                            0               0.67  \n",
       "2                                            0               1.82  "
      ]
     },
     "execution_count": 4,
     "metadata": {},
     "output_type": "execute_result"
    }
   ],
   "source": [
    "df.head(3)"
   ]
  },
  {
   "cell_type": "markdown",
   "id": "presidential-tiger",
   "metadata": {},
   "source": [
    "### 2. Exploratory Data Analysis\n",
    "\n",
    "Here we check on how data behaves. A good machine learning model heavily depends on how good we undestand our data and make use of them.\n",
    "\n",
    "#### 2.1 Missing Data\n",
    "\n",
    "Checking on how many missing data we have for each variable."
   ]
  },
  {
   "cell_type": "code",
   "execution_count": 5,
   "id": "occupational-paragraph",
   "metadata": {},
   "outputs": [
    {
     "data": {
      "image/png": "[encoded data removed]",
      "text/plain": [
       "<Figure size 1440x720 with 1 Axes>"
      ]
     },
     "metadata": {
      "needs_background": "light"
     },
     "output_type": "display_data"
    }
   ],
   "source": [
    "# Plotting Missing Values Info\n",
    "utils.plot_missing_values(df)"
   ]
  },
  {
   "cell_type": "markdown",
   "id": "elect-lounge",
   "metadata": {},
   "source": [
    "As we can see, there are null columns in this dataset. For this very reason, they can be dropped without mercy. "
   ]
  },
  {
   "cell_type": "code",
   "execution_count": 6,
   "id": "adaptive-joshua",
   "metadata": {},
   "outputs": [],
   "source": [
    "prop_missings = (df.isna().sum().sort_values(ascending=False) / df.shape[0])\n",
    "to_drop_full_nan = prop_missings[prop_missings==1].index.to_list()\n",
    "df.drop(to_drop_full_nan, axis=1, inplace=True)"
   ]
  },
  {
   "cell_type": "markdown",
   "id": "athletic-issue",
   "metadata": {},
   "source": [
    "#### 2.2 Target Variable: Price\n",
    "Price comes as a string variable with special characters. Because of this, some cleaning must be done before any kind of exploration."
   ]
  },
  {
   "cell_type": "code",
   "execution_count": 7,
   "id": "atlantic-toolbox",
   "metadata": {},
   "outputs": [],
   "source": [
    "# Converting Price to Integer\n",
    "df['price'] = df['price'].apply(lambda x: utils.convert_price_to_int(x))"
   ]
  },
  {
   "cell_type": "markdown",
   "id": "stable-stick",
   "metadata": {},
   "source": [
    "As price has a heavily assimetric distribution by it's own nature, we shall work with it's log.\n",
    "\n",
    "- Lot of low values and a few outliers.\n",
    "- Log transformation shinks data space. Variance is now not infinite and can be tested for normallity presumptions for possible inferences."
   ]
  },
  {
   "cell_type": "code",
   "execution_count": 8,
   "id": "regional-spouse",
   "metadata": {},
   "outputs": [],
   "source": [
    "df['log_price'] = np.log1p(df['price'])"
   ]
  },
  {
   "cell_type": "code",
   "execution_count": 9,
   "id": "literary-tablet",
   "metadata": {},
   "outputs": [
    {
     "data": {
      "text/plain": [
       "<seaborn.axisgrid.FacetGrid at 0x7f5db161ea00>"
      ]
     },
     "execution_count": 9,
     "metadata": {},
     "output_type": "execute_result"
    },
    {
     "data": {
      "image/png": "[encoded data removed]",
      "text/plain": [
       "<Figure size 360x360 with 1 Axes>"
      ]
     },
     "metadata": {
      "needs_background": "light"
     },
     "output_type": "display_data"
    }
   ],
   "source": [
    "sns.displot((df['price']), bins=100)"
   ]
  },
  {
   "cell_type": "code",
   "execution_count": 10,
   "id": "adverse-royalty",
   "metadata": {},
   "outputs": [
    {
     "data": {
      "text/plain": [
       "<seaborn.axisgrid.FacetGrid at 0x7f5e3427d2e0>"
      ]
     },
     "execution_count": 10,
     "metadata": {},
     "output_type": "execute_result"
    },
    {
     "data": {
      "image/png": "[encoded data removed]",
      "text/plain": [
       "<Figure size 360x360 with 1 Axes>"
      ]
     },
     "metadata": {
      "needs_background": "light"
     },
     "output_type": "display_data"
    }
   ],
   "source": [
    "sns.displot(df['log_price'], bins=100)"
   ]
  },
  {
   "cell_type": "code",
   "execution_count": null,
   "id": "macro-insured",
   "metadata": {},
   "outputs": [],
   "source": [
    "# A number of outliers are more explicit here.\n",
    "sns.boxplot(df['log_price'])"
   ]
  },
  {
   "cell_type": "code",
   "execution_count": null,
   "id": "identical-karma",
   "metadata": {},
   "outputs": [],
   "source": [
    "df['room_type'].value_counts()"
   ]
  },
  {
   "cell_type": "code",
   "execution_count": null,
   "id": "sufficient-borough",
   "metadata": {
    "scrolled": true
   },
   "outputs": [],
   "source": [
    "df['last_scraped']"
   ]
  },
  {
   "cell_type": "code",
   "execution_count": null,
   "id": "boxed-breakdown",
   "metadata": {
    "scrolled": true
   },
   "outputs": [],
   "source": [
    "df.head()"
   ]
  },
  {
   "cell_type": "code",
   "execution_count": null,
   "id": "exterior-leonard",
   "metadata": {},
   "outputs": [],
   "source": [
    "(pd.to_datetime('today')-pd.to_datetime(df['host_since'])).dt.days"
   ]
  },
  {
   "cell_type": "code",
   "execution_count": null,
   "id": "standing-review",
   "metadata": {},
   "outputs": [],
   "source": [
    "df['host_since'].values.apply(lambda x: pd.to_datetime('today')- pd.to_datetime(x))"
   ]
  },
  {
   "cell_type": "code",
   "execution_count": null,
   "id": "loose-things",
   "metadata": {},
   "outputs": [],
   "source": [
    "pd.to_datetime(df['host_since'].values[0]) - pd.to_datetime('today')"
   ]
  },
  {
   "cell_type": "code",
   "execution_count": null,
   "id": "invalid-illness",
   "metadata": {
    "scrolled": true
   },
   "outputs": [],
   "source": [
    "len(df['name'][0].replace(\" \", \"\"))"
   ]
  },
  {
   "cell_type": "code",
   "execution_count": null,
   "id": "developing-silly",
   "metadata": {},
   "outputs": [],
   "source": [
    "df['description'][5].replace(\"<b>\", \"\").replace('</b>', \"\").replace('<br />', \"\")"
   ]
  },
  {
   "cell_type": "code",
   "execution_count": null,
   "id": "violent-cotton",
   "metadata": {},
   "outputs": [],
   "source": [
    "df['description'][5].translate({ord(i): None for i in ['<', '/', '>']})"
   ]
  },
  {
   "cell_type": "code",
   "execution_count": null,
   "id": "coral-grant",
   "metadata": {},
   "outputs": [],
   "source": [
    "['<b>', '<br />']"
   ]
  }
 ],
 "metadata": {
  "kernelspec": {
   "display_name": "airbnb",
   "language": "python",
   "name": "airbnb"
  },
  "language_info": {
   "codemirror_mode": {
    "name": "ipython",
    "version": 3
   },
   "file_extension": ".py",
   "mimetype": "text/x-python",
   "name": "python",
   "nbconvert_exporter": "python",
   "pygments_lexer": "ipython3",
   "version": "3.8.5"
  }
 },
 "nbformat": 4,
 "nbformat_minor": 5
}
