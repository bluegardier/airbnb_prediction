{
 "cells": [
  {
   "cell_type": "code",
   "execution_count": 1,
   "id": "26a0d1e8",
   "metadata": {},
   "outputs": [],
   "source": [
    "import pandas as pd\n",
    "import numpy as np\n",
    "\n",
    "from sklearn.model_selection import train_test_split\n",
    "from sklearn.linear_model import LinearRegression\n",
    "from sklearn.preprocessing import StandardScaler\n",
    "from sklearn.ensemble import RandomForestRegressor\n",
    "from sklearn import metrics\n",
    "\n",
    "\n",
    "import mlflow\n",
    "import mlflow.sklearn\n",
    "import logging\n",
    "\n",
    "from airbnb_prediction.mlflow_utils import UiConn, MLflowRegressionModel\n",
    "\n",
    "pd.set_option('display.float_format', '{:.2f}'.format)"
   ]
  },
  {
   "cell_type": "code",
   "execution_count": 2,
   "id": "threaded-import",
   "metadata": {
    "scrolled": true
   },
   "outputs": [
    {
     "name": "stdout",
     "output_type": "stream",
     "text": [
      "Access for UI at: http://127.0.0.1:5555\n"
     ]
    }
   ],
   "source": [
    "conn = UiConn()\n",
    "conn.create_ui_session()"
   ]
  },
  {
   "cell_type": "code",
   "execution_count": 3,
   "id": "dbdb44c6",
   "metadata": {},
   "outputs": [],
   "source": [
    "df = pd.read_csv('../data/cleaned/df_to_model.csv')\n",
    "df.fillna(0, inplace=True)\n"
   ]
  },
  {
   "cell_type": "code",
   "execution_count": 4,
   "id": "fbac68d7",
   "metadata": {},
   "outputs": [],
   "source": [
    "price_df = df.drop('log_price', axis=1)\n",
    "log_price_df = df.drop('price', axis=1)"
   ]
  },
  {
   "cell_type": "code",
   "execution_count": 5,
   "id": "b59b5f55",
   "metadata": {},
   "outputs": [],
   "source": [
    "rfr_params_01 = {\n",
    "    'n_estimators': 200,\n",
    "    'max_depth': 200\n",
    "}\n",
    "\n",
    "\n",
    "rfr_params_02 = {\n",
    "    'n_estimators': 200,\n",
    "    'max_depth': 300\n",
    "}\n",
    "\n",
    "rfr_params_03 = {\n",
    "    'n_estimators': 400,\n",
    "    'max_depth': 450\n",
    "}\n",
    "\n",
    "rfr_params_04 = {\n",
    "    'n_estimators': 500,\n",
    "    'max_depth': None\n",
    "}\n",
    "\n",
    "\n",
    "param_list = [\n",
    "    rfr_params_01,\n",
    "    rfr_params_02,\n",
    "    rfr_params_03,\n",
    "    rfr_params_04\n",
    "] "
   ]
  },
  {
   "cell_type": "code",
   "execution_count": 6,
   "id": "5d95826d",
   "metadata": {},
   "outputs": [],
   "source": [
    "lr_model =  MLflowRegressionModel(LinearRegression)"
   ]
  },
  {
   "cell_type": "code",
   "execution_count": 7,
   "id": "215c269b",
   "metadata": {},
   "outputs": [
    {
     "name": "stdout",
     "output_type": "stream",
     "text": [
      "----------------------------------------------------------------------------------------------------\n",
      "Inside MLflow Run with run_id 0161722365a9496583ab02b76d78872c and experiment_id 0\n",
      "Mean Absolute Error    : 856.6034189765395\n",
      "Mean Squared Error     : 95743308.608073\n",
      "Root Mean Squared Error: 9784.85097526135\n",
      "R2                     : 0.0007777069323278152\n"
     ]
    },
    {
     "data": {
      "text/plain": [
       "('0', '0161722365a9496583ab02b76d78872c')"
      ]
     },
     "execution_count": 7,
     "metadata": {},
     "output_type": "execute_result"
    }
   ],
   "source": [
    "lr_model.mlflow_run(price_df, \n",
    "                    'price', \n",
    "                    'linear_regressor', \n",
    "                    r_name='linear_regression_price')"
   ]
  },
  {
   "cell_type": "code",
   "execution_count": 8,
   "id": "106544a2",
   "metadata": {},
   "outputs": [
    {
     "name": "stdout",
     "output_type": "stream",
     "text": [
      "----------------------------------------------------------------------------------------------------\n",
      "Inside MLflow Run with run_id 6b0f41b1067546ffa74ffeed885c153c and experiment_id 0\n",
      "Mean Absolute Error    : 708.7293158070956\n",
      "Mean Squared Error     : 97067276.37732108\n",
      "Root Mean Squared Error: 9852.272650374687\n",
      "R2                     : -0.013039844702024794\n"
     ]
    },
    {
     "data": {
      "text/plain": [
       "('0', '6b0f41b1067546ffa74ffeed885c153c')"
      ]
     },
     "execution_count": 8,
     "metadata": {},
     "output_type": "execute_result"
    }
   ],
   "source": [
    "lr_model.mlflow_run(log_price_df, \n",
    "                    'log_price', \n",
    "                    'linear_regressor', \n",
    "                    r_name='linear_regression_log_price', \n",
    "                    log_price=True)\n"
   ]
  },
  {
   "cell_type": "code",
   "execution_count": 9,
   "id": "2d2726ff",
   "metadata": {
    "scrolled": false
   },
   "outputs": [
    {
     "name": "stdout",
     "output_type": "stream",
     "text": [
      "----------------------------------------------------------------------------------------------------\n",
      "Inside MLflow Run with run_id e3fcd2520651443b816d55cd5440fb2d and experiment_id 0\n",
      "Mean Absolute Error    : 802.1369230754998\n",
      "Mean Squared Error     : 91983185.6926815\n",
      "Root Mean Squared Error: 9590.786500213708\n",
      "R2                     : 0.040020121847337164\n",
      "----------------------------------------------------------------------------------------------------\n",
      "Inside MLflow Run with run_id 8ccefb57d53049ff87634f76553c61da and experiment_id 0\n",
      "Mean Absolute Error    : 800.5283849410308\n",
      "Mean Squared Error     : 91880169.56359115\n",
      "Root Mean Squared Error: 9585.414417936825\n",
      "R2                     : 0.04109524672268472\n",
      "----------------------------------------------------------------------------------------------------\n",
      "Inside MLflow Run with run_id ee3a42fe760d499bba8c2c1cd1ce886f and experiment_id 0\n",
      "Mean Absolute Error    : 797.7462413818395\n",
      "Mean Squared Error     : 91861776.8775682\n",
      "Root Mean Squared Error: 9584.454959859126\n",
      "R2                     : 0.04128720146261089\n",
      "----------------------------------------------------------------------------------------------------\n",
      "Inside MLflow Run with run_id cf470ccc35194d27b42fc7fbe3900360 and experiment_id 0\n",
      "Mean Absolute Error    : 799.5815860911148\n",
      "Mean Squared Error     : 91721162.94009948\n",
      "Root Mean Squared Error: 9577.11662976386\n",
      "R2                     : 0.04275471478628268\n"
     ]
    }
   ],
   "source": [
    "for params in param_list:\n",
    "    random_forest_model = MLflowRegressionModel(RandomForestRegressor, params)\n",
    "    random_forest_model.mlflow_run(price_df, \n",
    "                                   'price', \n",
    "                                   'random_forest_regressor', \n",
    "                                   r_name='rfr_price')"
   ]
  },
  {
   "cell_type": "code",
   "execution_count": 10,
   "id": "714e0bfb",
   "metadata": {},
   "outputs": [
    {
     "name": "stdout",
     "output_type": "stream",
     "text": [
      "----------------------------------------------------------------------------------------------------\n",
      "Inside MLflow Run with run_id 38310805e1b94b6c95da119dcdc05cb2 and experiment_id 0\n",
      "Mean Absolute Error    : 675.9145540194304\n",
      "Mean Squared Error     : 95401634.64850183\n",
      "Root Mean Squared Error: 9767.376037017406\n",
      "R2                     : 0.004343577407534882\n",
      "----------------------------------------------------------------------------------------------------\n",
      "Inside MLflow Run with run_id aa310442c01d40da8e7470ec3af2c193 and experiment_id 0\n",
      "Mean Absolute Error    : 675.806602022683\n",
      "Mean Squared Error     : 95421748.28312238\n",
      "Root Mean Squared Error: 9768.405616226344\n",
      "R2                     : 0.004133662036950092\n",
      "----------------------------------------------------------------------------------------------------\n",
      "Inside MLflow Run with run_id dc3d0ff67835489791820c55fc2e3630 and experiment_id 0\n",
      "Mean Absolute Error    : 676.015404129211\n",
      "Mean Squared Error     : 95502515.59112431\n",
      "Root Mean Squared Error: 9772.538850837294\n",
      "R2                     : 0.0032907363444930615\n",
      "----------------------------------------------------------------------------------------------------\n",
      "Inside MLflow Run with run_id cfee7103afe64336828afcf4c918ac4f and experiment_id 0\n",
      "Mean Absolute Error    : 675.4195338130999\n",
      "Mean Squared Error     : 95474215.21699652\n",
      "Root Mean Squared Error: 9771.090789517642\n",
      "R2                     : 0.003586092387037998\n"
     ]
    }
   ],
   "source": [
    "for params in param_list:\n",
    "    random_forest_model = MLflowRegressionModel(RandomForestRegressor, params)\n",
    "    random_forest_model.mlflow_run(log_price_df, \n",
    "                                   'log_price', \n",
    "                                   'random_forest_regressor', \n",
    "                                   r_name='rfr_log_price',\n",
    "                                  log_price=True)"
   ]
  },
  {
   "cell_type": "code",
   "execution_count": 11,
   "id": "45210a51",
   "metadata": {},
   "outputs": [
    {
     "data": {
      "text/plain": [
       "'file:///home/victordualibi/%C3%81rea%20De%20Trabalho/projects/personal/airbnb/notebooks/mlruns'"
      ]
     },
     "execution_count": 11,
     "metadata": {},
     "output_type": "execute_result"
    }
   ],
   "source": [
    "mlflow.get_tracking_uri()"
   ]
  },
  {
   "cell_type": "code",
   "execution_count": null,
   "id": "6b9cf693",
   "metadata": {},
   "outputs": [],
   "source": [
    "file:///home/victordualibi/%C3%81rea%20De%20Trabalho/projects/personal/airbnb/airbnb_prediction"
   ]
  }
 ],
 "metadata": {
  "kernelspec": {
   "display_name": "airbnb_challenge",
   "language": "python",
   "name": "airbnb_challenge"
  },
  "language_info": {
   "codemirror_mode": {
    "name": "ipython",
    "version": 3
   },
   "file_extension": ".py",
   "mimetype": "text/x-python",
   "name": "python",
   "nbconvert_exporter": "python",
   "pygments_lexer": "ipython3",
   "version": "3.8.5"
  }
 },
 "nbformat": 4,
 "nbformat_minor": 5
}
