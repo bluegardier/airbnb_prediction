{
 "cells": [
  {
   "cell_type": "markdown",
   "id": "proper-india",
   "metadata": {},
   "source": [
    "## Airbnb Data Challenge \n",
    "\n",
    "Data taken from:\n",
    "\n",
    "The dataset has data about rental places from Latin America's capital, Rio de Janeiro. One can propose the following challenges for the candidates:\n",
    "\n",
    "- Estimate price variable for each observation. Regression Approach.\n",
    "- Estimate room type variable for each observation. Classification Approach.\n",
    "\n",
    "This notebook makes a superficial analysis of the dataset, paying attention on each requirement from the **Expectation** section on readme.md."
   ]
  },
  {
   "cell_type": "code",
   "execution_count": 1,
   "id": "mineral-census",
   "metadata": {},
   "outputs": [],
   "source": [
    "import pandas as pd\n",
    "import numpy as np\n",
    "import seaborn as sns\n",
    "\n",
    "import re\n",
    "import math\n",
    "\n",
    "from airbnb_prediction.config import data_dir_raw\n",
    "from airbnb_prediction import preprocess, objects\n",
    "\n",
    "pd.set_option('display.max_columns', None)"
   ]
  },
  {
   "cell_type": "code",
   "execution_count": 2,
   "id": "spanish-billion",
   "metadata": {},
   "outputs": [],
   "source": [
    "df = pd.read_csv(data_dir_raw / 'listings.csv')"
   ]
  },
  {
   "cell_type": "code",
   "execution_count": null,
   "id": "c953b132",
   "metadata": {},
   "outputs": [],
   "source": [
    "fillna_dict = {\n",
    "    'host_response_time': 'no_info',\n",
    "    'host_is_superhost': df['host_is_superhost'].mode()[0],\n",
    "    'bedrooms': df['bedrooms'].mode()[0],\n",
    "    'beds': df['beds'].mode()[0],\n",
    "    'days_since_host': df['days_since_host'].mode()[0]\n",
    "}"
   ]
  },
  {
   "cell_type": "markdown",
   "id": "dental-municipality",
   "metadata": {},
   "source": [
    "### 1. Basic Dataframe Info\n",
    "\n",
    "We can check dataframe's shape to assert how many rows we have. The .head() method give us a glimpse of what we're about to attack."
   ]
  },
  {
   "cell_type": "code",
   "execution_count": null,
   "id": "through-saskatchewan",
   "metadata": {
    "scrolled": true
   },
   "outputs": [],
   "source": [
    "df.shape"
   ]
  },
  {
   "cell_type": "code",
   "execution_count": null,
   "id": "seventh-procedure",
   "metadata": {},
   "outputs": [],
   "source": [
    "df.head(3)"
   ]
  },
  {
   "cell_type": "markdown",
   "id": "presidential-tiger",
   "metadata": {},
   "source": [
    "### 2. Exploratory Data Analysis\n",
    "\n",
    "Here we check on how data behaves. A good machine learning model heavily depends on how good we undestand our data and make use of them.\n",
    "\n",
    "#### 2.1 Missing Data\n",
    "\n",
    "Checking on how many missing data we have for each variable."
   ]
  },
  {
   "cell_type": "code",
   "execution_count": null,
   "id": "occupational-paragraph",
   "metadata": {
    "scrolled": false
   },
   "outputs": [],
   "source": [
    "# Plotting Missing Values Info\n",
    "preprocess.plot_missing_values(df)"
   ]
  },
  {
   "cell_type": "markdown",
   "id": "elect-lounge",
   "metadata": {},
   "source": [
    "As we can see, there are null columns in this dataset. For this very reason, they can be dropped without mercy. "
   ]
  },
  {
   "cell_type": "code",
   "execution_count": null,
   "id": "adaptive-joshua",
   "metadata": {},
   "outputs": [],
   "source": [
    "preprocess.dropping_empty_columns(df)"
   ]
  },
  {
   "cell_type": "markdown",
   "id": "athletic-issue",
   "metadata": {},
   "source": [
    "#### 2.2 Target Variable: Price\n",
    "Price comes as a string variable with special characters. Because of this, some cleaning must be done before any kind of exploration."
   ]
  },
  {
   "cell_type": "code",
   "execution_count": null,
   "id": "atlantic-toolbox",
   "metadata": {},
   "outputs": [],
   "source": [
    "# Converting Price to Integer\n",
    "df['price'] = df['price'].apply(lambda x: preprocess.convert_price_to_int(x))"
   ]
  },
  {
   "cell_type": "markdown",
   "id": "stable-stick",
   "metadata": {},
   "source": [
    "As price has a heavily assimetric distribution by it's own nature, we shall work with it's log. It's not mandatory, however the log-transformation removes data asymmetry by shinking the data space and can be tested for normallity presumptions. The visualization below shows how the new variable behaves. "
   ]
  },
  {
   "cell_type": "code",
   "execution_count": null,
   "id": "regional-spouse",
   "metadata": {},
   "outputs": [],
   "source": [
    "df['log_price'] = np.log1p(df['price'])"
   ]
  },
  {
   "cell_type": "markdown",
   "id": "04023d33",
   "metadata": {},
   "source": [
    "The **log_price** changes the data scale. With less extreme values, both mean and std are significantly lower. The regression models can be used on log values and then, transformed back using the exponential function.\n",
    "\n",
    "Mlflow can track both experiments, using either log and normal prices as target variables."
   ]
  },
  {
   "cell_type": "code",
   "execution_count": null,
   "id": "b28fb567",
   "metadata": {},
   "outputs": [],
   "source": [
    "df['price'].describe()"
   ]
  },
  {
   "cell_type": "code",
   "execution_count": null,
   "id": "0c63aeda",
   "metadata": {},
   "outputs": [],
   "source": [
    "df['log_price'].describe()"
   ]
  },
  {
   "cell_type": "code",
   "execution_count": null,
   "id": "literary-tablet",
   "metadata": {},
   "outputs": [],
   "source": [
    "sns.displot((df['price']), bins=100)"
   ]
  },
  {
   "cell_type": "code",
   "execution_count": null,
   "id": "adverse-royalty",
   "metadata": {},
   "outputs": [],
   "source": [
    "sns.displot(df['log_price'], bins=100)"
   ]
  },
  {
   "cell_type": "code",
   "execution_count": null,
   "id": "212edfbb",
   "metadata": {},
   "outputs": [],
   "source": [
    "sns.boxplot(x=df['price'])"
   ]
  },
  {
   "cell_type": "code",
   "execution_count": null,
   "id": "macro-insured",
   "metadata": {},
   "outputs": [],
   "source": [
    "# A number of outliers are more explicit here.\n",
    "sns.boxplot(x=df['log_price'])"
   ]
  },
  {
   "cell_type": "markdown",
   "id": "e21988fc",
   "metadata": {},
   "source": [
    "#### 2.3 Feature Engineering\n",
    "\n",
    "Using the present data, we can gather further insights and make new variables to help model's prediction. A number of new variables will be made accordingly."
   ]
  },
  {
   "cell_type": "markdown",
   "id": "77e67e30",
   "metadata": {},
   "source": [
    "##### 2.3.1 String Variables\n",
    "String variables can say a number of things about our data. The most basic engineering that can be made on them are the number of characters each one has."
   ]
  },
  {
   "cell_type": "code",
   "execution_count": null,
   "id": "b7a1a8f9",
   "metadata": {},
   "outputs": [],
   "source": [
    "string_variables = [\n",
    "    'name',\n",
    "    'description',\n",
    "    'neighborhood_overview',\n",
    "    'host_about'   \n",
    "]"
   ]
  },
  {
   "cell_type": "code",
   "execution_count": null,
   "id": "c1c3e0c3",
   "metadata": {
    "scrolled": true
   },
   "outputs": [],
   "source": [
    "# Create counting string variables from string_variables list and drop the former.\n",
    "preprocess.count_characters_variables(df, string_variables)"
   ]
  },
  {
   "cell_type": "code",
   "execution_count": null,
   "id": "58b518b2",
   "metadata": {
    "scrolled": false
   },
   "outputs": [],
   "source": [
    "for variable in string_variables:\n",
    "    print(df['count_{}'.format(variable)].describe())"
   ]
  },
  {
   "cell_type": "markdown",
   "id": "9d6008c9",
   "metadata": {},
   "source": [
    "- **count_descripion** has a seemly uniform distribution, aside the max value that might be about the character limit.\n",
    "\n",
    "- **count_name** has a rather exotic distribution (and almost a bimodal distribution). Most of it's data is within the 0-39 count range and some outliers (check the original variable to see these entries).\n",
    "\n",
    "- Over 51% of the **host_about** variable is missing. People tend to speak less about themselves as it's distribution decreases as the length rises.\n",
    "\n",
    "- The same happens similarly with **count_name**: Over 46% of it's data is missing and it has a descendent distribution.\n",
    "\n",
    "Some hypothesis:\n",
    "\n",
    "- Longer texts results in higher prices.\n",
    "- If host describe themself or the host has a neighborhood overview (binary variable), the price is higher."
   ]
  },
  {
   "cell_type": "code",
   "execution_count": null,
   "id": "4af0a2c7",
   "metadata": {},
   "outputs": [],
   "source": [
    "sns.displot(df['count_description'])"
   ]
  },
  {
   "cell_type": "code",
   "execution_count": null,
   "id": "5722b975",
   "metadata": {},
   "outputs": [],
   "source": [
    "sns.displot(df['count_name'])"
   ]
  },
  {
   "cell_type": "markdown",
   "id": "16c97eb5",
   "metadata": {},
   "source": [
    "#### - Comparing Full X Filtered Variable: 'count_neighborhood_overview'"
   ]
  },
  {
   "cell_type": "code",
   "execution_count": null,
   "id": "1a1e6a18",
   "metadata": {},
   "outputs": [],
   "source": [
    "# Over 46% of the host_about variable is missing.\n",
    "missing_host_about = df.query('count_neighborhood_overview==0').shape[0]\n",
    "round(missing_host_about/df.shape[0], 3)"
   ]
  },
  {
   "cell_type": "code",
   "execution_count": null,
   "id": "fa61f05c",
   "metadata": {},
   "outputs": [],
   "source": [
    "sns.displot(df['count_neighborhood_overview'])"
   ]
  },
  {
   "cell_type": "code",
   "execution_count": null,
   "id": "48265939",
   "metadata": {},
   "outputs": [],
   "source": [
    "sns.displot(df[df['count_neighborhood_overview']>0]['count_neighborhood_overview'])"
   ]
  },
  {
   "cell_type": "markdown",
   "id": "f6765182",
   "metadata": {},
   "source": [
    "#### - Comparing Full X Filtered Variable: 'count_host_about'"
   ]
  },
  {
   "cell_type": "code",
   "execution_count": null,
   "id": "ce89be6a",
   "metadata": {},
   "outputs": [],
   "source": [
    "# Over 51% of the host_about variable is missing.\n",
    "missing_host_about = df.query('count_host_about==0').shape[0]\n",
    "round(missing_host_about/df.shape[0], 3)"
   ]
  },
  {
   "cell_type": "code",
   "execution_count": null,
   "id": "7b2ad05f",
   "metadata": {},
   "outputs": [],
   "source": [
    "sns.displot(df['count_host_about'])"
   ]
  },
  {
   "cell_type": "code",
   "execution_count": null,
   "id": "dd48657d",
   "metadata": {},
   "outputs": [],
   "source": [
    "# Filtrando observações > 0\n",
    "sns.displot(df[df['count_host_about']>0]['count_host_about'])"
   ]
  },
  {
   "cell_type": "markdown",
   "id": "b18bae09",
   "metadata": {},
   "source": [
    "##### 2.3.2 Numerical Variables\n",
    "\n",
    "Construction of some numerical variables"
   ]
  },
  {
   "cell_type": "code",
   "execution_count": null,
   "id": "dc2e8429",
   "metadata": {},
   "outputs": [],
   "source": [
    "# Time Since Registered as Host\n",
    "# Still, we have 24 missing values for this variable. \n",
    "# Check if its a new host crossing with review number and other variables.\n",
    "df['days_since_host'] = (pd.to_datetime('today')-pd.to_datetime(df['host_since'])).dt.days"
   ]
  },
  {
   "cell_type": "markdown",
   "id": "considerable-characterization",
   "metadata": {},
   "source": [
    "Bathrooms is a string variable, instead of a int. Because of that, we can make some manipulation like the **price** variable.\n",
    "\n",
    "Definition for Half-Bath:\n",
    "- a bathroom in a private home that contains a toilet and sink but no bathtub or shower. If it's just a half bath for guests, a nice sink, a sturdy toilet, and a decorative towel rack will do.\n",
    "\n",
    "By this definition we can make two new variables: A binary variable for the presence of a half-bath and a count variable for the number of bathrooms."
   ]
  },
  {
   "cell_type": "code",
   "execution_count": null,
   "id": "tough-upper",
   "metadata": {
    "scrolled": true
   },
   "outputs": [],
   "source": [
    "df['bathrooms_text'].unique()"
   ]
  },
  {
   "cell_type": "code",
   "execution_count": null,
   "id": "approved-composite",
   "metadata": {},
   "outputs": [],
   "source": [
    "# Create \"bathroom_text_clean\" variable containing only \"bathrooms_text\"'s numerical part.\n",
    "df['bathroom_text_clean'] = preprocess.extract_numbers(df, 'bathrooms_text', fillna=True)\n",
    "\n",
    "\n",
    "# Create \"Bathroom\" count variable and \"half_bath\" as binary variable.\n",
    "df['bathrooms'] = np.where(df['bathroom_text_clean'].isnull()==False,\n",
    "                           (df['bathroom_text_clean']).astype(float).apply(np.floor), 0)\n",
    "df['half_bath'] = np.where(df['bathroom_text_clean'].str.isalnum()==False, 1, 0)"
   ]
  },
  {
   "cell_type": "markdown",
   "id": "6f324e1f",
   "metadata": {},
   "source": [
    "We can calculate the delta between the minimum and maximum nights a person can spend at that place."
   ]
  },
  {
   "cell_type": "code",
   "execution_count": null,
   "id": "african-enhancement",
   "metadata": {},
   "outputs": [],
   "source": [
    "df['delta_nights'] = preprocess.creating_delta_variable(df, 'minimum_nights', 'maximum_nights')"
   ]
  },
  {
   "cell_type": "code",
   "execution_count": null,
   "id": "metric-kentucky",
   "metadata": {},
   "outputs": [],
   "source": [
    "df[['minimum_nights', 'maximum_nights', 'delta_nights']]"
   ]
  },
  {
   "cell_type": "markdown",
   "id": "a24e5f99",
   "metadata": {},
   "source": [
    "Mean number of reviews: number of reviews / delta from first/last review"
   ]
  },
  {
   "cell_type": "code",
   "execution_count": null,
   "id": "e0bac15f",
   "metadata": {},
   "outputs": [],
   "source": [
    "df['delta_date_reviews'] = preprocess.creating_delta_date_variable(df, 'first_review', 'last_review')\n",
    "df['mean_reviews'] = df['number_of_reviews']/(df['number_of_reviews'].fillna(0)+1)"
   ]
  },
  {
   "cell_type": "code",
   "execution_count": null,
   "id": "f8f55754",
   "metadata": {
    "scrolled": false
   },
   "outputs": [],
   "source": [
    "sns.displot(df['mean_reviews'])"
   ]
  },
  {
   "cell_type": "markdown",
   "id": "pregnant-darwin",
   "metadata": {},
   "source": [
    "#### 2.3.3 Categorical Variables\n",
    "\n",
    "Refactor variables to categorical, missing values imputing and some other feature engineering."
   ]
  },
  {
   "cell_type": "markdown",
   "id": "standing-express",
   "metadata": {},
   "source": [
    "The 'neighbourhood_cleansed' variable has 151 unique entries. This high variability can bring no info to the model. However, it's public knowledge that city's regions are like clusters, with similarites among their own neighborhoods.\n",
    "\n",
    "We can group all neighborhoods into Zones, lowering 151 classes to only 4."
   ]
  },
  {
   "cell_type": "code",
   "execution_count": null,
   "id": "sustained-fifty",
   "metadata": {},
   "outputs": [],
   "source": [
    "df['regioes'] = preprocess.creating_zones(df)"
   ]
  },
  {
   "cell_type": "markdown",
   "id": "iraqi-diploma",
   "metadata": {},
   "source": [
    "Now that we have the grouped neighborhoods, we can do a quick analysis with the target variable.\n",
    "One hypotesis is that Zona Sul and Zona Oeste (Barra, Recreio, etc...) have the higher prices than the other regions.\n",
    "\n",
    "However, as we can see below, The region variable is highly unbalanced. As Zona Sul has over 60% of the observations we can binarize the variable as well, but by judging the statistics below, it might not be a good idea as the Zones have distinct measure positions."
   ]
  },
  {
   "cell_type": "code",
   "execution_count": null,
   "id": "stone-charger",
   "metadata": {},
   "outputs": [],
   "source": [
    "# Zona Sul covers more than 60% rows.\n",
    "round(df[df['regioes']=='zona_sul'].shape[0]/df.shape[0], 4)"
   ]
  },
  {
   "cell_type": "markdown",
   "id": "alleged-kernel",
   "metadata": {},
   "source": [
    "As one can see below, the Zona Sul region does not have the highest mean price from the other. However we might not be capturing the \"true\" statistics from the other regioes due their sample size."
   ]
  },
  {
   "cell_type": "code",
   "execution_count": null,
   "id": "revised-spirit",
   "metadata": {},
   "outputs": [],
   "source": [
    "df.groupby('regioes')['price'].describe()"
   ]
  },
  {
   "cell_type": "code",
   "execution_count": null,
   "id": "prime-mitchell",
   "metadata": {},
   "outputs": [],
   "source": [
    "preprocess.plot_configuration()\n",
    "sns.boxplot(x=\"regioes\", y=\"log_price\", data=df)"
   ]
  },
  {
   "cell_type": "markdown",
   "id": "korean-universe",
   "metadata": {},
   "source": [
    "Host Response Time' missing values can be filled with a \"no_info\" category. As we have a lot of missings, the mode inputing could not be the best alternative here (the assumption that 8k missings are from the \"within an hour\" response can be too heavy here... in this case, missing can infer cases where the host simply does not do the response action at all because the **host_response_rate** is missing for these cases as well)."
   ]
  },
  {
   "cell_type": "code",
   "execution_count": null,
   "id": "quick-motion",
   "metadata": {},
   "outputs": [],
   "source": [
    "df['host_response_time'].fillna('no_info', inplace=True)\n",
    "df['host_response_time'].value_counts(dropna=False)"
   ]
  },
  {
   "cell_type": "code",
   "execution_count": null,
   "id": "aaedaf64",
   "metadata": {},
   "outputs": [],
   "source": [
    "# The variable is mostly constant here.\n",
    "df['host_response_rate'] = df['host_response_rate'].str.slice(0,-1)\n",
    "df['host_response_rate'] = df['host_response_rate'].fillna(0)\n",
    "df['host_response_rate'] = df['host_response_rate'].astype(int)\n",
    "df[df['host_response_rate']>0]['host_response_rate'].describe()"
   ]
  },
  {
   "cell_type": "markdown",
   "id": "4c235b4c",
   "metadata": {},
   "source": [
    "Property Type has many categories, so we can refactor it.\n",
    "The \"Entire apartment\" entry has almost 50% rows."
   ]
  },
  {
   "cell_type": "code",
   "execution_count": null,
   "id": "afd79e91",
   "metadata": {},
   "outputs": [],
   "source": [
    "df['property_type'].nunique()"
   ]
  },
  {
   "cell_type": "code",
   "execution_count": null,
   "id": "14a11751",
   "metadata": {},
   "outputs": [],
   "source": [
    "df['property_type_refactor'] = preprocess.creating_property_type_refactor(df)"
   ]
  },
  {
   "cell_type": "code",
   "execution_count": null,
   "id": "9b380562",
   "metadata": {},
   "outputs": [],
   "source": [
    "# However, its cleary the \"others\" variable need more refining due its larger std.\n",
    "df.groupby('property_type_refactor')['price'].describe()"
   ]
  },
  {
   "cell_type": "markdown",
   "id": "embedded-medicine",
   "metadata": {},
   "source": [
    "We can create a binary variable indicating if the host lives in RJ. However, as one can see that their distribution are pretty similar the tree model can capture patterns that are not linear."
   ]
  },
  {
   "cell_type": "code",
   "execution_count": null,
   "id": "starting-click",
   "metadata": {},
   "outputs": [],
   "source": [
    "df['is_host_rj'] = preprocess.creating_host_location(df)"
   ]
  },
  {
   "cell_type": "code",
   "execution_count": null,
   "id": "therapeutic-library",
   "metadata": {},
   "outputs": [],
   "source": [
    "df.groupby('is_host_rj')['price'].describe()"
   ]
  },
  {
   "cell_type": "code",
   "execution_count": null,
   "id": "immediate-footage",
   "metadata": {
    "scrolled": false
   },
   "outputs": [],
   "source": [
    "preprocess.plot_configuration()\n",
    "sns.boxplot(x=df['is_host_rj'], y=df['log_price'])"
   ]
  },
  {
   "cell_type": "code",
   "execution_count": null,
   "id": "e84424b4",
   "metadata": {},
   "outputs": [],
   "source": [
    "# Dropping Unused Variables"
   ]
  },
  {
   "cell_type": "code",
   "execution_count": null,
   "id": "eefdf29b",
   "metadata": {},
   "outputs": [],
   "source": [
    "df.drop(objects.to_drop, axis=1, inplace=True)"
   ]
  },
  {
   "cell_type": "code",
   "execution_count": null,
   "id": "5e87f934",
   "metadata": {},
   "outputs": [],
   "source": [
    "df.fillna(fillna_dict, inplace=True)"
   ]
  }
 ],
 "metadata": {
  "kernelspec": {
   "display_name": "airbnb_challenge",
   "language": "python",
   "name": "airbnb_challenge"
  },
  "language_info": {
   "codemirror_mode": {
    "name": "ipython",
    "version": 3
   },
   "file_extension": ".py",
   "mimetype": "text/x-python",
   "name": "python",
   "nbconvert_exporter": "python",
   "pygments_lexer": "ipython3",
   "version": "3.8.5"
  }
 },
 "nbformat": 4,
 "nbformat_minor": 5
}